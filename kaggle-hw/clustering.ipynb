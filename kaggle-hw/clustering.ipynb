{
 "cells": [
  {
   "cell_type": "code",
   "execution_count": 1,
   "metadata": {},
   "outputs": [],
   "source": [
    "import os\n",
    "import numpy\n",
    "\n",
    "#%matplotlib inline\n",
    "import matplotlib\n",
    "import matplotlib.pyplot as plt\n",
    "\n",
    "import time\n",
    "import gzip\n",
    "\n",
    "from IPython.display import clear_output"
   ]
  },
  {
   "cell_type": "markdown",
   "metadata": {},
   "source": [
    "# K-means"
   ]
  },
  {
   "cell_type": "code",
   "execution_count": 2,
   "metadata": {},
   "outputs": [],
   "source": [
    "def my_distance_matrix(x, y):\n",
    "    x = x.astype(numpy.float64)\n",
    "    y = y.astype(numpy.float64)\n",
    "    assert len(x.shape) == len(y.shape) == 2\n",
    "    assert x.shape[1] == y.shape[1]\n",
    "    \n",
    "    # (a - b) ** 2 = (a, a) - 2 (a, b) + (b, b)\n",
    "    distances = (x @ (-2 * y.T))\n",
    "    distances += numpy.linalg.norm(x, axis=-1)[:, None] ** 2\n",
    "    distances += numpy.linalg.norm(y, axis=-1)[None, :] ** 2\n",
    "    distances[distances < 0] = 0\n",
    "    distances = numpy.sqrt(distances, out=distances)\n",
    "    return distances\n",
    "\n",
    "class k_means:\n",
    "    def __init__(self, k, init=None):\n",
    "        if init is None:\n",
    "            init = self._random_choice\n",
    "        self.init = init\n",
    "        self.nclusters = k\n",
    "        self.centers = None\n",
    "        self.debug = False\n",
    "\n",
    "    @staticmethod\n",
    "    def _random_choice(n, x):\n",
    "        return (numpy.random.default_rng(seed=numpy.random.randint(0, 2**32))\n",
    "                .choice(x, size=n, replace=False))\n",
    "\n",
    "    def train(self, x, debug=False):\n",
    "        self.centers = self.init(self.nclusters, x)\n",
    "        prev = None\n",
    "        while (prev != self.centers).all():\n",
    "            cl = self.clusters(x)\n",
    "            # new centers are means of each group\n",
    "            new = numpy.array([\n",
    "                    x.mean(axis=0) if len(x) else self.centers[i]\n",
    "                    for i, x in enumerate(cl)])\n",
    "            self.centers, prev = new, self.centers\n",
    "        return self\n",
    "\n",
    "    def __call__(self, x):\n",
    "        assert self.centers is not None\n",
    "        return my_distance_matrix(x, self.centers).argmin(axis=1)\n",
    "    \n",
    "    def clusters(self, x):\n",
    "        assert len(x.shape) == 2\n",
    "        cl = self(x)\n",
    "        return [x[cl == i] for i in range(self.centers.shape[0])]"
   ]
  },
  {
   "cell_type": "code",
   "execution_count": 3,
   "metadata": {},
   "outputs": [
    {
     "name": "stdout",
     "output_type": "stream",
     "text": [
      "5.329070518200751e-15\n"
     ]
    }
   ],
   "source": [
    "from scipy.spatial import distance_matrix\n",
    "gg, hh = numpy.random.randn(100, 100), numpy.random.randn(200, 100)\n",
    "print(abs(distance_matrix(gg, hh) - my_distance_matrix(gg, hh)).max())"
   ]
  },
  {
   "cell_type": "markdown",
   "metadata": {},
   "source": [
    "### classifier"
   ]
  },
  {
   "cell_type": "code",
   "execution_count": 4,
   "metadata": {},
   "outputs": [],
   "source": [
    "def init_farthest(n, x):\n",
    "    y = (numpy.random.default_rng(seed=numpy.random.randint(0, 2**32))\n",
    "            .choice(x, size=1))\n",
    "    for i in range(n-1):\n",
    "        y = numpy.concatenate([\n",
    "                (x[my_distance_matrix(x, y, ).min(axis=1).argmax()]\n",
    "                        .reshape(1, -1)),\n",
    "                y])\n",
    "    return y\n",
    "\n",
    "def init_plusplus(n, x):\n",
    "    y = (numpy.random.default_rng(seed=numpy.random.randint(0, 2**32))\n",
    "            .choice(x, size=1))\n",
    "    for i in range(n-1):\n",
    "        probs = my_distance_matrix(x, y).min(axis=1) ** 2\n",
    "        probs /= probs.sum()\n",
    "        cs = numpy.cumsum(probs)\n",
    "        r = numpy.random.rand()\n",
    "        y = numpy.concatenate([\n",
    "            x[(cs < r) & (probs != 0)][0:1],\n",
    "            y])\n",
    "    return y"
   ]
  },
  {
   "cell_type": "code",
   "execution_count": 5,
   "metadata": {},
   "outputs": [],
   "source": [
    "def strange_clustering_loss(clusters):\n",
    "    avg = 0\n",
    "    for c in clusters:\n",
    "        n = len(c)\n",
    "        avg += my_distance_matrix(c, c).mean() / n\n",
    "    cc = numpy.concatenate(clusters)\n",
    "    n = len(cc)\n",
    "    return avg"
   ]
  },
  {
   "cell_type": "code",
   "execution_count": 6,
   "metadata": {},
   "outputs": [],
   "source": [
    "def flatten(x):\n",
    "    return x.reshape(x.shape[0], -1)"
   ]
  },
  {
   "cell_type": "code",
   "execution_count": 7,
   "metadata": {},
   "outputs": [],
   "source": [
    "def train_classifier(x_train, y_train, nclusters, nclasses):\n",
    "    model = k_means(nclusters)\n",
    "    model.train(x_train)\n",
    "    y = model(x_train)\n",
    "    class_p = []\n",
    "    for i in range(nclusters):\n",
    "        y_i = y_train[y == i]\n",
    "        class_p.append(numpy.array([(y_i == j).mean() for j in range(nclasses)]))\n",
    "    class_p = numpy.array(class_p)\n",
    "    class_argmax = class_p.argmax(axis=1)\n",
    "\n",
    "    return model, lambda x: class_argmax[model(x)]"
   ]
  },
  {
   "cell_type": "markdown",
   "metadata": {},
   "source": [
    "# Loading data"
   ]
  },
  {
   "cell_type": "code",
   "execution_count": 8,
   "metadata": {},
   "outputs": [
    {
     "name": "stdout",
     "output_type": "stream",
     "text": [
      "iml2020-bank.zip: Skipping, found more recently modified local copy (use --force to force download)\n",
      "Archive:  iml2020-bank.zip\n",
      "replace test.csv? [y]es, [n]o, [A]ll, [N]one, [r]ename: ^C\n"
     ]
    }
   ],
   "source": [
    "!kaggle competitions download -c iml2020-bank\n",
    "!unzip iml2020-bank.zip"
   ]
  },
  {
   "cell_type": "code",
   "execution_count": 2,
   "metadata": {},
   "outputs": [],
   "source": [
    "import pandas as pd"
   ]
  },
  {
   "cell_type": "code",
   "execution_count": 384,
   "metadata": {},
   "outputs": [],
   "source": [
    "data = pd.read_csv('train.csv')"
   ]
  },
  {
   "cell_type": "markdown",
   "metadata": {},
   "source": [
    "### train test split"
   ]
  },
  {
   "cell_type": "code",
   "execution_count": 385,
   "metadata": {},
   "outputs": [
    {
     "name": "stdout",
     "output_type": "stream",
     "text": [
      "['плохой_клиент'] ['линии', 'возраст', 'поведение_30-59_дней', 'Debt_Ratio', 'доход', 'число_кредитов', 'поведение_90_дней', 'недвижимость', 'поведение_60-89_дней', 'семья']\n"
     ]
    }
   ],
   "source": [
    "train = data.copy()\n",
    "train.fillna(-11, inplace=True)\n",
    "\n",
    "test = pd.read_csv('test.csv')\n",
    "test.fillna(-11, inplace=True)\n",
    "\n",
    "y_cols, x_cols = map(list, (train.columns[:1], train.columns[1:]))\n",
    "print(y_cols, x_cols)"
   ]
  },
  {
   "cell_type": "code",
   "execution_count": 386,
   "metadata": {},
   "outputs": [],
   "source": [
    "def train_test_split(x, y, ntest):\n",
    "    ind = numpy.arange(y.shape[0])\n",
    "    numpy.random.shuffle(ind)\n",
    "    return x[ind[ntest :]], y[ind[ntest :]], x[ind[: ntest]], y[ind[: ntest]]"
   ]
  },
  {
   "cell_type": "code",
   "execution_count": 387,
   "metadata": {},
   "outputs": [],
   "source": [
    "x_tr = train[x_cols].to_numpy()\n",
    "y_tr = (train[y_cols].to_numpy().flatten() > 0.5) * 1"
   ]
  },
  {
   "cell_type": "code",
   "execution_count": 388,
   "metadata": {},
   "outputs": [],
   "source": [
    "x_train, y_train, x_test, y_test = train_test_split(x_tr, y_tr, int(y_tr.shape[0] * 0.1))"
   ]
  },
  {
   "cell_type": "markdown",
   "metadata": {},
   "source": [
    "# not random forest classisfier"
   ]
  },
  {
   "cell_type": "code",
   "execution_count": 389,
   "metadata": {},
   "outputs": [],
   "source": [
    "import sklearn\n",
    "import sklearn.ensemble\n",
    "import sklearn.linear_model\n",
    "import sklearn.neural_network\n",
    "import sklearn.naive_bayes\n",
    "import sklearn.neighbors"
   ]
  },
  {
   "cell_type": "code",
   "execution_count": 428,
   "metadata": {},
   "outputs": [],
   "source": [
    "model = sklearn.ensemble.VotingRegressor(estimators=[\n",
    "        ('RF1', sklearn.ensemble.RandomForestRegressor(max_depth=11)),\n",
    "        ('RF2', sklearn.ensemble.RandomForestRegressor(max_depth=15)),\n",
    "        ('GB1', sklearn.ensemble.GradientBoostingRegressor(max_depth=3)),\n",
    "        ('GB2', sklearn.ensemble.GradientBoostingRegressor(n_estimators=500, max_depth=1)),\n",
    "        ('GB3', sklearn.ensemble.GradientBoostingRegressor(n_estimators=100, max_depth=10)),\n",
    "        ('AB', sklearn.ensemble.AdaBoostRegressor())\n",
    "        ], n_jobs=8)"
   ]
  },
  {
   "cell_type": "code",
   "execution_count": 429,
   "metadata": {},
   "outputs": [],
   "source": [
    "try:\n",
    "    model.fit(x_train, y_train)\n",
    "except:\n",
    "    !notify-send jupyter error --urgency=critical"
   ]
  },
  {
   "cell_type": "code",
   "execution_count": 430,
   "metadata": {},
   "outputs": [
    {
     "data": {
      "text/plain": [
       "0.8267125995773688"
      ]
     },
     "execution_count": 430,
     "metadata": {},
     "output_type": "execute_result"
    }
   ],
   "source": [
    "loss(y_train, (model.predict(x_train) > 0.06)*1)"
   ]
  },
  {
   "cell_type": "code",
   "execution_count": 431,
   "metadata": {},
   "outputs": [
    {
     "name": "stdout",
     "output_type": "stream",
     "text": [
      "0.04\t0.8691709844559585\t0.6597633136094675\tavg =\t0.7644671490327131\n",
      "0.043\t0.8588082901554405\t0.6714067570146974\tavg =\t0.765107523585069\n",
      "0.046\t0.8510362694300518\t0.6842908952090093\tavg =\t0.7676635823195306\n",
      "0.049\t0.8458549222797928\t0.6972704714640199\tavg =\t0.7715626968719063\n",
      "0.052\t0.8419689119170984\t0.7121588089330024\tavg =\t0.7770638604250504\n",
      "0.055\t0.8354922279792746\t0.7267608322198893\tavg =\t0.781126530099582\n",
      "0.058\t0.8173575129533679\t0.7393586562321054\tavg =\t0.7783580845927367\n",
      "0.061\t0.805699481865285\t0.7502385951517465\tavg =\t0.7779690385085157\n",
      "0.064\t0.7979274611398963\t0.7610230960106891\tavg =\t0.7794752785752928\n",
      "0.067\t0.788860103626943\t0.7719030349303302\tavg =\t0.7803815692786367\n",
      "0.07\t0.7707253886010362\t0.7824966596678755\tavg =\t0.7766110241344559\n",
      "0.073\t0.7603626943005182\t0.7928994082840237\tavg =\t0.776631051292271\n",
      "0.076\t0.7461139896373057\t0.8031112807787746\tavg =\t0.7746126352080401\n",
      "0.079\t0.7370466321243523\t0.8120824584844436\tavg =\t0.7745645453043979\n",
      "0.082\t0.7318652849740933\t0.8217217026150029\tavg =\t0.7767934937945481\n",
      "0.085\t0.7215025906735751\t0.8305020041992747\tavg =\t0.7760022974364249\n",
      "0.088\t0.7137305699481865\t0.8387096774193549\tavg =\t0.7762201236837707\n",
      "0.091\t0.7033678756476683\t0.8471082267608322\tavg =\t0.7752380512042503\n",
      "0.094\t0.6917098445595855\t0.8546478335560221\tavg =\t0.7731788390578038\n",
      "0.097\t0.6800518134715026\t0.8620920022905134\tavg =\t0.771071907881008\n",
      "0.1\t0.6722797927461139\t0.8694407329643061\tavg =\t0.77086026285521\n",
      "\n",
      "max avg = 0.781126530099582\n"
     ]
    }
   ],
   "source": [
    "mavg = 0\n",
    "loss = lambda y_test, y_pred: 0.5 * sum([(y_pred[y_test == i] == y_test[y_test == i]).mean() for i in range(2)])\n",
    "for th in numpy.linspace(0.04, 0.1, 21):\n",
    "    y_pred = (model.predict(x_test) > th)*1\n",
    "\n",
    "    q1 = (y_pred[y_test == 1] == y_test[y_test == 1]).mean()\n",
    "    q2 = (y_pred[y_test == 0] == y_test[y_test == 0]).mean()\n",
    "    print(round(th, 6), q1, q2, 'avg =', (q1+q2)/2, sep='\\t')\n",
    "    mavg = max(mavg, (q1+q2)/2)\n",
    "print('\\nmax avg =', mavg)"
   ]
  },
  {
   "cell_type": "code",
   "execution_count": 432,
   "metadata": {},
   "outputs": [],
   "source": [
    "!notify-send jupyter computed --urgency=critical"
   ]
  },
  {
   "cell_type": "markdown",
   "metadata": {},
   "source": [
    "### saving solution"
   ]
  },
  {
   "cell_type": "code",
   "execution_count": 435,
   "metadata": {},
   "outputs": [],
   "source": [
    "f = lambda th: lambda x: x/th/2 * (x<=th) + ((x-th)/(1-th)+1)/2 * (x>th)\n",
    "y_test_predict = f(0.055)(numpy.clip(model.predict(test.to_numpy()), 0, 1))\n",
    "pd.DataFrame({'id': numpy.arange(len(y_test_predict)), 'a': y_test_predict}).to_csv('solution.csv', index=False)"
   ]
  },
  {
   "cell_type": "code",
   "execution_count": 441,
   "metadata": {},
   "outputs": [
    {
     "data": {
      "text/plain": [
       "0.3299507523305936"
      ]
     },
     "execution_count": 441,
     "metadata": {},
     "output_type": "execute_result"
    }
   ],
   "source": [
    "((y_train - f(0.055)(numpy.clip(model.predict(x_train), 0, 1)))**2).mean()**.5"
   ]
  },
  {
   "cell_type": "markdown",
   "metadata": {},
   "source": [
    "# k-means testing"
   ]
  },
  {
   "cell_type": "code",
   "execution_count": 10,
   "metadata": {},
   "outputs": [],
   "source": [
    "train = data.copy()\n",
    "pseudo_inf = 1000 * train.max().max()\n",
    "train.fillna(pseudo_inf, inplace=True)"
   ]
  },
  {
   "cell_type": "code",
   "execution_count": 48,
   "metadata": {},
   "outputs": [],
   "source": [
    "bad = train.loc[(train[y_cols[0]] == 1).to_numpy()].to_numpy()\n",
    "badn = numpy.concatenate([bad for i in range(len(train) // len(bad) - 1)])\n",
    "train = train.append(pd.DataFrame(data=badn, columns=y_cols+x_cols, index=numpy.arange(len(badn))+len(train)))"
   ]
  },
  {
   "cell_type": "code",
   "execution_count": 49,
   "metadata": {},
   "outputs": [
    {
     "data": {
      "text/plain": [
       "210572"
      ]
     },
     "execution_count": 49,
     "metadata": {},
     "output_type": "execute_result"
    }
   ],
   "source": [
    "len(train)"
   ]
  },
  {
   "cell_type": "code",
   "execution_count": 51,
   "metadata": {},
   "outputs": [],
   "source": [
    "x_tr = train[x_cols].to_numpy()\n",
    "y_tr = (train[y_cols].to_numpy().flatten() > 0.5) * 1"
   ]
  },
  {
   "cell_type": "code",
   "execution_count": 52,
   "metadata": {},
   "outputs": [],
   "source": [
    "x_train, y_train, x_test, y_test = train_test_split(x_tr, y_tr, int(y_tr.shape[0] * 0.1))"
   ]
  },
  {
   "cell_type": "code",
   "execution_count": 61,
   "metadata": {},
   "outputs": [
    {
     "name": "stderr",
     "output_type": "stream",
     "text": [
      "/home/abrikos/anaconda3/lib/python3.7/site-packages/ipykernel_launcher.py:8: RuntimeWarning: Mean of empty slice.\n",
      "  \n"
     ]
    }
   ],
   "source": [
    "model, classifier = train_classifier(x_train, y_train, 100, 2)"
   ]
  },
  {
   "cell_type": "code",
   "execution_count": 62,
   "metadata": {},
   "outputs": [
    {
     "data": {
      "text/plain": [
       "0.5265232464263665"
      ]
     },
     "execution_count": 62,
     "metadata": {},
     "output_type": "execute_result"
    }
   ],
   "source": [
    "(classifier(x_test) == 0).mean()  # stupid k-means"
   ]
  },
  {
   "cell_type": "code",
   "execution_count": 63,
   "metadata": {},
   "outputs": [
    {
     "data": {
      "text/plain": [
       "0.5733485301799877"
      ]
     },
     "execution_count": 63,
     "metadata": {},
     "output_type": "execute_result"
    }
   ],
   "source": [
    "(classifier(x_test) == y_test).mean()"
   ]
  },
  {
   "cell_type": "code",
   "execution_count": 57,
   "metadata": {},
   "outputs": [],
   "source": [
    "del model, classifier"
   ]
  },
  {
   "cell_type": "markdown",
   "metadata": {},
   "source": [
    "# sth other"
   ]
  },
  {
   "cell_type": "code",
   "execution_count": 65,
   "metadata": {},
   "outputs": [
    {
     "data": {
      "text/html": [
       "<div>\n",
       "<style scoped>\n",
       "    .dataframe tbody tr th:only-of-type {\n",
       "        vertical-align: middle;\n",
       "    }\n",
       "\n",
       "    .dataframe tbody tr th {\n",
       "        vertical-align: top;\n",
       "    }\n",
       "\n",
       "    .dataframe thead th {\n",
       "        text-align: right;\n",
       "    }\n",
       "</style>\n",
       "<table border=\"1\" class=\"dataframe\">\n",
       "  <thead>\n",
       "    <tr style=\"text-align: right;\">\n",
       "      <th></th>\n",
       "      <th>плохой_клиент</th>\n",
       "      <th>линии</th>\n",
       "      <th>возраст</th>\n",
       "      <th>поведение_30-59_дней</th>\n",
       "      <th>Debt_Ratio</th>\n",
       "      <th>доход</th>\n",
       "      <th>число_кредитов</th>\n",
       "      <th>поведение_90_дней</th>\n",
       "      <th>недвижимость</th>\n",
       "      <th>поведение_60-89_дней</th>\n",
       "      <th>семья</th>\n",
       "    </tr>\n",
       "  </thead>\n",
       "  <tbody>\n",
       "    <tr>\n",
       "      <th>0</th>\n",
       "      <td>0</td>\n",
       "      <td>0.031258</td>\n",
       "      <td>57</td>\n",
       "      <td>0</td>\n",
       "      <td>0.397520</td>\n",
       "      <td>5000.0</td>\n",
       "      <td>15</td>\n",
       "      <td>0</td>\n",
       "      <td>2</td>\n",
       "      <td>0</td>\n",
       "      <td>0.0</td>\n",
       "    </tr>\n",
       "    <tr>\n",
       "      <th>1</th>\n",
       "      <td>0</td>\n",
       "      <td>0.052332</td>\n",
       "      <td>64</td>\n",
       "      <td>0</td>\n",
       "      <td>57.000000</td>\n",
       "      <td>NaN</td>\n",
       "      <td>2</td>\n",
       "      <td>0</td>\n",
       "      <td>0</td>\n",
       "      <td>0</td>\n",
       "      <td>NaN</td>\n",
       "    </tr>\n",
       "    <tr>\n",
       "      <th>2</th>\n",
       "      <td>0</td>\n",
       "      <td>1.051793</td>\n",
       "      <td>40</td>\n",
       "      <td>1</td>\n",
       "      <td>444.000000</td>\n",
       "      <td>NaN</td>\n",
       "      <td>2</td>\n",
       "      <td>1</td>\n",
       "      <td>0</td>\n",
       "      <td>0</td>\n",
       "      <td>0.0</td>\n",
       "    </tr>\n",
       "    <tr>\n",
       "      <th>3</th>\n",
       "      <td>0</td>\n",
       "      <td>0.981993</td>\n",
       "      <td>40</td>\n",
       "      <td>1</td>\n",
       "      <td>0.780109</td>\n",
       "      <td>6625.0</td>\n",
       "      <td>8</td>\n",
       "      <td>0</td>\n",
       "      <td>1</td>\n",
       "      <td>0</td>\n",
       "      <td>4.0</td>\n",
       "    </tr>\n",
       "    <tr>\n",
       "      <th>4</th>\n",
       "      <td>0</td>\n",
       "      <td>0.163684</td>\n",
       "      <td>67</td>\n",
       "      <td>0</td>\n",
       "      <td>0.317596</td>\n",
       "      <td>4574.0</td>\n",
       "      <td>5</td>\n",
       "      <td>0</td>\n",
       "      <td>2</td>\n",
       "      <td>0</td>\n",
       "      <td>0.0</td>\n",
       "    </tr>\n",
       "    <tr>\n",
       "      <th>...</th>\n",
       "      <td>...</td>\n",
       "      <td>...</td>\n",
       "      <td>...</td>\n",
       "      <td>...</td>\n",
       "      <td>...</td>\n",
       "      <td>...</td>\n",
       "      <td>...</td>\n",
       "      <td>...</td>\n",
       "      <td>...</td>\n",
       "      <td>...</td>\n",
       "      <td>...</td>\n",
       "    </tr>\n",
       "    <tr>\n",
       "      <th>112495</th>\n",
       "      <td>0</td>\n",
       "      <td>0.017400</td>\n",
       "      <td>90</td>\n",
       "      <td>0</td>\n",
       "      <td>30.000000</td>\n",
       "      <td>NaN</td>\n",
       "      <td>10</td>\n",
       "      <td>0</td>\n",
       "      <td>0</td>\n",
       "      <td>0</td>\n",
       "      <td>NaN</td>\n",
       "    </tr>\n",
       "    <tr>\n",
       "      <th>112496</th>\n",
       "      <td>0</td>\n",
       "      <td>0.009396</td>\n",
       "      <td>55</td>\n",
       "      <td>0</td>\n",
       "      <td>0.230803</td>\n",
       "      <td>4583.0</td>\n",
       "      <td>18</td>\n",
       "      <td>0</td>\n",
       "      <td>1</td>\n",
       "      <td>0</td>\n",
       "      <td>0.0</td>\n",
       "    </tr>\n",
       "    <tr>\n",
       "      <th>112497</th>\n",
       "      <td>1</td>\n",
       "      <td>0.991441</td>\n",
       "      <td>44</td>\n",
       "      <td>2</td>\n",
       "      <td>0.482681</td>\n",
       "      <td>3550.0</td>\n",
       "      <td>7</td>\n",
       "      <td>0</td>\n",
       "      <td>1</td>\n",
       "      <td>1</td>\n",
       "      <td>2.0</td>\n",
       "    </tr>\n",
       "    <tr>\n",
       "      <th>112498</th>\n",
       "      <td>0</td>\n",
       "      <td>0.170114</td>\n",
       "      <td>39</td>\n",
       "      <td>1</td>\n",
       "      <td>0.158226</td>\n",
       "      <td>4600.0</td>\n",
       "      <td>16</td>\n",
       "      <td>0</td>\n",
       "      <td>0</td>\n",
       "      <td>0</td>\n",
       "      <td>2.0</td>\n",
       "    </tr>\n",
       "    <tr>\n",
       "      <th>112499</th>\n",
       "      <td>0</td>\n",
       "      <td>0.177668</td>\n",
       "      <td>33</td>\n",
       "      <td>1</td>\n",
       "      <td>1.060646</td>\n",
       "      <td>3000.0</td>\n",
       "      <td>8</td>\n",
       "      <td>0</td>\n",
       "      <td>1</td>\n",
       "      <td>0</td>\n",
       "      <td>0.0</td>\n",
       "    </tr>\n",
       "  </tbody>\n",
       "</table>\n",
       "<p>112500 rows × 11 columns</p>\n",
       "</div>"
      ],
      "text/plain": [
       "        плохой_клиент     линии  возраст  поведение_30-59_дней  Debt_Ratio  \\\n",
       "0                   0  0.031258       57                     0    0.397520   \n",
       "1                   0  0.052332       64                     0   57.000000   \n",
       "2                   0  1.051793       40                     1  444.000000   \n",
       "3                   0  0.981993       40                     1    0.780109   \n",
       "4                   0  0.163684       67                     0    0.317596   \n",
       "...               ...       ...      ...                   ...         ...   \n",
       "112495              0  0.017400       90                     0   30.000000   \n",
       "112496              0  0.009396       55                     0    0.230803   \n",
       "112497              1  0.991441       44                     2    0.482681   \n",
       "112498              0  0.170114       39                     1    0.158226   \n",
       "112499              0  0.177668       33                     1    1.060646   \n",
       "\n",
       "         доход  число_кредитов  поведение_90_дней  недвижимость  \\\n",
       "0       5000.0              15                  0             2   \n",
       "1          NaN               2                  0             0   \n",
       "2          NaN               2                  1             0   \n",
       "3       6625.0               8                  0             1   \n",
       "4       4574.0               5                  0             2   \n",
       "...        ...             ...                ...           ...   \n",
       "112495     NaN              10                  0             0   \n",
       "112496  4583.0              18                  0             1   \n",
       "112497  3550.0               7                  0             1   \n",
       "112498  4600.0              16                  0             0   \n",
       "112499  3000.0               8                  0             1   \n",
       "\n",
       "        поведение_60-89_дней  семья  \n",
       "0                          0    0.0  \n",
       "1                          0    NaN  \n",
       "2                          0    0.0  \n",
       "3                          0    4.0  \n",
       "4                          0    0.0  \n",
       "...                      ...    ...  \n",
       "112495                     0    NaN  \n",
       "112496                     0    0.0  \n",
       "112497                     1    2.0  \n",
       "112498                     0    2.0  \n",
       "112499                     0    0.0  \n",
       "\n",
       "[112500 rows x 11 columns]"
      ]
     },
     "execution_count": 65,
     "metadata": {},
     "output_type": "execute_result"
    }
   ],
   "source": [
    "data"
   ]
  },
  {
   "cell_type": "code",
   "execution_count": 103,
   "metadata": {},
   "outputs": [
    {
     "data": {
      "text/plain": [
       "7544"
      ]
     },
     "execution_count": 103,
     "metadata": {},
     "output_type": "execute_result"
    }
   ],
   "source": [
    "data['плохой_клиент'].to_numpy().sum()"
   ]
  },
  {
   "cell_type": "code",
   "execution_count": 197,
   "metadata": {},
   "outputs": [
    {
     "data": {
      "text/plain": [
       "((112500, 10), (112500,))"
      ]
     },
     "execution_count": 197,
     "metadata": {},
     "output_type": "execute_result"
    }
   ],
   "source": [
    "datax, datay = data[x_cols].to_numpy(), data[y_cols].to_numpy().reshape(-1)\n",
    "datax.shape, datay.shape"
   ]
  },
  {
   "cell_type": "code",
   "execution_count": 198,
   "metadata": {},
   "outputs": [],
   "source": [
    "badi = (datay == 1)"
   ]
  },
  {
   "cell_type": "code",
   "execution_count": 199,
   "metadata": {},
   "outputs": [],
   "source": [
    "datax_mean = data.mean(axis=0)[x_cols].to_numpy()\n",
    "datax_std = data.std(axis=0)[x_cols].to_numpy()"
   ]
  },
  {
   "cell_type": "code",
   "execution_count": 200,
   "metadata": {},
   "outputs": [],
   "source": [
    "datax = (datax - datax_mean) / datax_std"
   ]
  },
  {
   "cell_type": "code",
   "execution_count": 201,
   "metadata": {},
   "outputs": [],
   "source": [
    "datax[datax != datax] = -100"
   ]
  },
  {
   "cell_type": "code",
   "execution_count": 245,
   "metadata": {},
   "outputs": [
    {
     "data": {
      "text/plain": [
       "<matplotlib.collections.PathCollection at 0x7f7a25c64fd0>"
      ]
     },
     "execution_count": 245,
     "metadata": {},
     "output_type": "execute_result"
    },
    {
     "data": {
      "image/png": "[encoded data removed]",
      "text/plain": [
       "<Figure size 432x288 with 1 Axes>"
      ]
     },
     "metadata": {
      "needs_background": "light"
     },
     "output_type": "display_data"
    }
   ],
   "source": [
    "%matplotlib inline\n",
    "wx = numpy.random.randn(len(x_cols))\n",
    "wy = numpy.random.randn(len(x_cols))\n",
    "x, y = datax @ wx, datax @ wy\n",
    "plt.scatter(x[~badi], y[~badi])\n",
    "plt.scatter(x[badi], y[badi])"
   ]
  },
  {
   "cell_type": "code",
   "execution_count": 320,
   "metadata": {},
   "outputs": [],
   "source": [
    "def corr(x, y):\n",
    "    return ((x - x.mean()) * (y - y.mean())).mean() / x.std() / y.std()\n",
    "\n",
    "def m(x, y):\n",
    "    x, y = map(lambda x: x.to_numpy(), (x, y))\n",
    "    print('&', 'x', '!x', sep='\\t')\n",
    "    print('y', (x&y).sum(), (y&~x).sum(), sep='\\t')\n",
    "    print('!y', (x&~y).sum(), ((~x)&~y).sum(), sep='\\t')"
   ]
  },
  {
   "cell_type": "code",
   "execution_count": 344,
   "metadata": {},
   "outputs": [
    {
     "data": {
      "image/png": "[encoded data removed]",
      "text/plain": [
       "<Figure size 432x288 with 1 Axes>"
      ]
     },
     "metadata": {
      "needs_background": "light"
     },
     "output_type": "display_data"
    },
    {
     "name": "stdout",
     "output_type": "stream",
     "text": [
      "4117233 6140.505029678345\n"
     ]
    },
    {
     "name": "stderr",
     "output_type": "stream",
     "text": [
      "/home/abrikos/anaconda3/lib/python3.7/site-packages/ipykernel_launcher.py:2: RuntimeWarning: invalid value encountered in double_scalars\n",
      "  \n"
     ]
    }
   ],
   "source": [
    "i = [-2 for i in range(len(x_cols))]\n",
    "cormax = [(None, -2)]\n",
    "y = (data['плохой_клиент']==1).to_numpy()\n",
    "t = time.time()\n",
    "k = 1\n",
    "while sum(i) != 2 * len(x_cols):\n",
    "    x = (datax @ i)\n",
    "    c = abs(corr(x, y))\n",
    "    if c > cormax[-1][-1]:\n",
    "        cormax.append((i, c))\n",
    "        cc = [cc[-1] for cc in cormax]\n",
    "        clear_output(True)\n",
    "        plt.plot(cc[1:])\n",
    "        plt.show()\n",
    "        print(k, time.time() - t)\n",
    "    k += 1\n",
    "    j = 0\n",
    "    i[j] += 1\n",
    "    while i[j] > 2:\n",
    "        i[j] = -2\n",
    "        j += 1\n",
    "        i[j] += 1"
   ]
  },
  {
   "cell_type": "code",
   "execution_count": 334,
   "metadata": {},
   "outputs": [
    {
     "name": "stdout",
     "output_type": "stream",
     "text": [
      "[ 0 -1  1  1  1 -1  1 -1  0  1]\n",
      "corr: 0.028030959927498062\n"
     ]
    }
   ],
   "source": [
    "w = numpy.random.randint(-1, 2, size=len(x_cols))\n",
    "print(w)\n",
    "x, y = (datax @ w), (data['плохой_клиент']==1).to_numpy()\n",
    "print('corr:', corr(x, y))"
   ]
  },
  {
   "cell_type": "code",
   "execution_count": 298,
   "metadata": {},
   "outputs": [
    {
     "name": "stdout",
     "output_type": "stream",
     "text": [
      "&\tx\t!x\n",
      "y\t7544\t0\n",
      "!y\t104951\t5\n",
      "corr: 0.0017873746601126338\n"
     ]
    }
   ],
   "source": [
    "x, y = data['Debt_Ratio'] < 100000, data['плохой_клиент']==1\n",
    "m(x, y)\n",
    "print('corr:', corr(x, y))"
   ]
  },
  {
   "cell_type": "code",
   "execution_count": 252,
   "metadata": {},
   "outputs": [
    {
     "name": "stdout",
     "output_type": "stream",
     "text": [
      "линии                      0.649591\n",
      "возраст                   37.000000\n",
      "поведение_30-59_дней       1.000000\n",
      "Debt_Ratio                 0.218188\n",
      "доход                   9500.000000\n",
      "число_кредитов             7.000000\n",
      "поведение_90_дней          0.000000\n",
      "недвижимость               1.000000\n",
      "поведение_60-89_дней       0.000000\n",
      "семья                      2.000000\n",
      "Name: 30760, dtype: float64\n"
     ]
    },
    {
     "name": "stdin",
     "output_type": "stream",
     "text": [
      " 0\n"
     ]
    },
    {
     "name": "stdout",
     "output_type": "stream",
     "text": [
      "плохой_клиент    1\n",
      "Name: 30760, dtype: int64\n",
      "\n",
      "линии                     0.988301\n",
      "возраст                  26.000000\n",
      "поведение_30-59_дней      0.000000\n",
      "Debt_Ratio              625.000000\n",
      "доход                          NaN\n",
      "число_кредитов            6.000000\n",
      "поведение_90_дней         0.000000\n",
      "недвижимость              0.000000\n",
      "поведение_60-89_дней      0.000000\n",
      "семья                     0.000000\n",
      "Name: 68516, dtype: float64\n"
     ]
    },
    {
     "name": "stdin",
     "output_type": "stream",
     "text": [
      " 0\n"
     ]
    },
    {
     "name": "stdout",
     "output_type": "stream",
     "text": [
      "плохой_клиент    0\n",
      "Name: 68516, dtype: int64\n",
      "\n",
      "линии                    0.416717\n",
      "возраст                 85.000000\n",
      "поведение_30-59_дней     0.000000\n",
      "Debt_Ratio              62.000000\n",
      "доход                         NaN\n",
      "число_кредитов           1.000000\n",
      "поведение_90_дней        0.000000\n",
      "недвижимость             0.000000\n",
      "поведение_60-89_дней     0.000000\n",
      "семья                         NaN\n",
      "Name: 36075, dtype: float64\n"
     ]
    },
    {
     "name": "stdin",
     "output_type": "stream",
     "text": [
      " 0\n"
     ]
    },
    {
     "name": "stdout",
     "output_type": "stream",
     "text": [
      "плохой_клиент    0\n",
      "Name: 36075, dtype: int64\n",
      "\n",
      "линии                      0.025936\n",
      "возраст                   44.000000\n",
      "поведение_30-59_дней       0.000000\n",
      "Debt_Ratio                 0.201107\n",
      "доход                   5961.000000\n",
      "число_кредитов             6.000000\n",
      "поведение_90_дней          0.000000\n",
      "недвижимость               1.000000\n",
      "поведение_60-89_дней       0.000000\n",
      "семья                      0.000000\n",
      "Name: 53225, dtype: float64\n"
     ]
    },
    {
     "name": "stdin",
     "output_type": "stream",
     "text": [
      " 0\n"
     ]
    },
    {
     "name": "stdout",
     "output_type": "stream",
     "text": [
      "плохой_клиент    0\n",
      "Name: 53225, dtype: int64\n",
      "\n",
      "линии                      0.464533\n",
      "возраст                   69.000000\n",
      "поведение_30-59_дней       0.000000\n",
      "Debt_Ratio                 0.499639\n",
      "доход                   2769.000000\n",
      "число_кредитов            12.000000\n",
      "поведение_90_дней          0.000000\n",
      "недвижимость               1.000000\n",
      "поведение_60-89_дней       0.000000\n",
      "семья                      0.000000\n",
      "Name: 93857, dtype: float64\n"
     ]
    },
    {
     "ename": "KeyboardInterrupt",
     "evalue": "Interrupted by user",
     "output_type": "error",
     "traceback": [
      "\u001b[0;31m---------------------------------------------------------------------------\u001b[0m",
      "\u001b[0;31mKeyboardInterrupt\u001b[0m                         Traceback (most recent call last)",
      "\u001b[0;32m<ipython-input-252-10aadf8ef333>\u001b[0m in \u001b[0;36m<module>\u001b[0;34m\u001b[0m\n\u001b[1;32m      2\u001b[0m     \u001b[0mi\u001b[0m \u001b[0;34m=\u001b[0m \u001b[0mnumpy\u001b[0m\u001b[0;34m.\u001b[0m\u001b[0mrandom\u001b[0m\u001b[0;34m.\u001b[0m\u001b[0mrandint\u001b[0m\u001b[0;34m(\u001b[0m\u001b[0mlen\u001b[0m\u001b[0;34m(\u001b[0m\u001b[0mdata\u001b[0m\u001b[0;34m)\u001b[0m\u001b[0;34m)\u001b[0m\u001b[0;34m\u001b[0m\u001b[0;34m\u001b[0m\u001b[0m\n\u001b[1;32m      3\u001b[0m     \u001b[0mprint\u001b[0m\u001b[0;34m(\u001b[0m\u001b[0mdata\u001b[0m\u001b[0;34m[\u001b[0m\u001b[0mx_cols\u001b[0m\u001b[0;34m]\u001b[0m\u001b[0;34m.\u001b[0m\u001b[0mloc\u001b[0m\u001b[0;34m[\u001b[0m\u001b[0mi\u001b[0m\u001b[0;34m]\u001b[0m\u001b[0;34m)\u001b[0m\u001b[0;34m\u001b[0m\u001b[0;34m\u001b[0m\u001b[0m\n\u001b[0;32m----> 4\u001b[0;31m     \u001b[0ml\u001b[0m \u001b[0;34m=\u001b[0m \u001b[0mint\u001b[0m\u001b[0;34m(\u001b[0m\u001b[0minput\u001b[0m\u001b[0;34m(\u001b[0m\u001b[0;34m)\u001b[0m\u001b[0;34m)\u001b[0m\u001b[0;34m\u001b[0m\u001b[0;34m\u001b[0m\u001b[0m\n\u001b[0m\u001b[1;32m      5\u001b[0m     \u001b[0mprint\u001b[0m\u001b[0;34m(\u001b[0m\u001b[0mdata\u001b[0m\u001b[0;34m[\u001b[0m\u001b[0my_cols\u001b[0m\u001b[0;34m]\u001b[0m\u001b[0;34m.\u001b[0m\u001b[0mloc\u001b[0m\u001b[0;34m[\u001b[0m\u001b[0mi\u001b[0m\u001b[0;34m]\u001b[0m\u001b[0;34m)\u001b[0m\u001b[0;34m\u001b[0m\u001b[0;34m\u001b[0m\u001b[0m\n\u001b[1;32m      6\u001b[0m     \u001b[0mprint\u001b[0m\u001b[0;34m(\u001b[0m\u001b[0;34m)\u001b[0m\u001b[0;34m\u001b[0m\u001b[0;34m\u001b[0m\u001b[0m\n",
      "\u001b[0;32m~/anaconda3/lib/python3.7/site-packages/ipykernel/kernelbase.py\u001b[0m in \u001b[0;36mraw_input\u001b[0;34m(self, prompt)\u001b[0m\n\u001b[1;32m    861\u001b[0m             \u001b[0mself\u001b[0m\u001b[0;34m.\u001b[0m\u001b[0m_parent_ident\u001b[0m\u001b[0;34m,\u001b[0m\u001b[0;34m\u001b[0m\u001b[0;34m\u001b[0m\u001b[0m\n\u001b[1;32m    862\u001b[0m             \u001b[0mself\u001b[0m\u001b[0;34m.\u001b[0m\u001b[0m_parent_header\u001b[0m\u001b[0;34m,\u001b[0m\u001b[0;34m\u001b[0m\u001b[0;34m\u001b[0m\u001b[0m\n\u001b[0;32m--> 863\u001b[0;31m             \u001b[0mpassword\u001b[0m\u001b[0;34m=\u001b[0m\u001b[0;32mFalse\u001b[0m\u001b[0;34m,\u001b[0m\u001b[0;34m\u001b[0m\u001b[0;34m\u001b[0m\u001b[0m\n\u001b[0m\u001b[1;32m    864\u001b[0m         )\n\u001b[1;32m    865\u001b[0m \u001b[0;34m\u001b[0m\u001b[0m\n",
      "\u001b[0;32m~/anaconda3/lib/python3.7/site-packages/ipykernel/kernelbase.py\u001b[0m in \u001b[0;36m_input_request\u001b[0;34m(self, prompt, ident, parent, password)\u001b[0m\n\u001b[1;32m    902\u001b[0m             \u001b[0;32mexcept\u001b[0m \u001b[0mKeyboardInterrupt\u001b[0m\u001b[0;34m:\u001b[0m\u001b[0;34m\u001b[0m\u001b[0;34m\u001b[0m\u001b[0m\n\u001b[1;32m    903\u001b[0m                 \u001b[0;31m# re-raise KeyboardInterrupt, to truncate traceback\u001b[0m\u001b[0;34m\u001b[0m\u001b[0;34m\u001b[0m\u001b[0;34m\u001b[0m\u001b[0m\n\u001b[0;32m--> 904\u001b[0;31m                 \u001b[0;32mraise\u001b[0m \u001b[0mKeyboardInterrupt\u001b[0m\u001b[0;34m(\u001b[0m\u001b[0;34m\"Interrupted by user\"\u001b[0m\u001b[0;34m)\u001b[0m \u001b[0;32mfrom\u001b[0m \u001b[0;32mNone\u001b[0m\u001b[0;34m\u001b[0m\u001b[0;34m\u001b[0m\u001b[0m\n\u001b[0m\u001b[1;32m    905\u001b[0m             \u001b[0;32mexcept\u001b[0m \u001b[0mException\u001b[0m \u001b[0;32mas\u001b[0m \u001b[0me\u001b[0m\u001b[0;34m:\u001b[0m\u001b[0;34m\u001b[0m\u001b[0;34m\u001b[0m\u001b[0m\n\u001b[1;32m    906\u001b[0m                 \u001b[0mself\u001b[0m\u001b[0;34m.\u001b[0m\u001b[0mlog\u001b[0m\u001b[0;34m.\u001b[0m\u001b[0mwarning\u001b[0m\u001b[0;34m(\u001b[0m\u001b[0;34m\"Invalid Message:\"\u001b[0m\u001b[0;34m,\u001b[0m \u001b[0mexc_info\u001b[0m\u001b[0;34m=\u001b[0m\u001b[0;32mTrue\u001b[0m\u001b[0;34m)\u001b[0m\u001b[0;34m\u001b[0m\u001b[0;34m\u001b[0m\u001b[0m\n",
      "\u001b[0;31mKeyboardInterrupt\u001b[0m: Interrupted by user"
     ]
    }
   ],
   "source": [
    "for i in range(100):\n",
    "    i = numpy.random.randint(len(data))\n",
    "    print(data[x_cols].loc[i])\n",
    "    l = int(input())\n",
    "    print(data[y_cols].loc[i])\n",
    "    print()"
   ]
  }
 ],
 "metadata": {
  "kernelspec": {
   "display_name": "Python 3",
   "language": "python",
   "name": "python3"
  },
  "language_info": {
   "codemirror_mode": {
    "name": "ipython",
    "version": 3
   },
   "file_extension": ".py",
   "mimetype": "text/x-python",
   "name": "python",
   "nbconvert_exporter": "python",
   "pygments_lexer": "ipython3",
   "version": "3.7.7"
  }
 },
 "nbformat": 4,
 "nbformat_minor": 4
}

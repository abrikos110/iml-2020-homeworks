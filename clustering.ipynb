{
 "cells": [
  {
   "cell_type": "code",
   "execution_count": 12,
   "metadata": {},
   "outputs": [],
   "source": [
    "import numpy\n",
    "\n",
    "import scipy\n",
    "from scipy.spatial import distance_matrix\n",
    "\n",
    "import matplotlib.pyplot as plt"
   ]
  },
  {
   "cell_type": "markdown",
   "metadata": {},
   "source": [
    "# K-means"
   ]
  },
  {
   "cell_type": "code",
   "execution_count": 101,
   "metadata": {},
   "outputs": [],
   "source": [
    "def split_nearest(x, centers):\n",
    "    assert len(x.shape) == 2\n",
    "    cl = distance_matrix(x, centers, p=2).argmin(axis=1)\n",
    "    return [x[cl == i] for i in range(centers.shape[0])]\n",
    "\n",
    "class k_means:\n",
    "    def __init__(self, nclusters):\n",
    "        self.nclusters = nclusters\n",
    "        self.centers = None\n",
    "        \n",
    "    def train(self, x):\n",
    "        self.centers = x[numpy.random.default_rng()\n",
    "                .choice(x.shape[0], size=self.nclusters, replace=False)]\n",
    "        prev = None\n",
    "        while (prev != self.centers).all():\n",
    "            cl = split_nearest(x, self.centers)\n",
    "            new = numpy.array([x.mean(axis=0) if len(x)\n",
    "                    else self.centers[i] for i, x in enumerate(cl)])\n",
    "            self.centers, prev = new, self.centers\n",
    "            \n",
    "    def __call__(self, x):\n",
    "        assert self.centers is not None\n",
    "        return split_nearest(x, self.centers)"
   ]
  },
  {
   "cell_type": "markdown",
   "metadata": {},
   "source": [
    "### testing"
   ]
  },
  {
   "cell_type": "code",
   "execution_count": 98,
   "metadata": {},
   "outputs": [
    {
     "data": {
      "image/png": "[encoded data removed]",
      "text/plain": [
       "<Figure size 432x288 with 1 Axes>"
      ]
     },
     "metadata": {
      "needs_background": "light"
     },
     "output_type": "display_data"
    }
   ],
   "source": [
    "kcl = k_means(3)\n",
    "st = numpy.array([2 + abs(numpy.random.randn(100)) * 3,\n",
    "        numpy.random.randn(100)-3])\n",
    "st[1] /= st[0]\n",
    "x = numpy.concatenate([numpy.random.randn(100, 2)/3,\n",
    "        2 + numpy.random.randn(100, 2)/3,\n",
    "        st.T])\n",
    "kcl.train(x)\n",
    "for i in kcl(x):\n",
    "    plt.scatter(i[:, 0], i[:, 1])\n",
    "plt.show()"
   ]
  }
 ],
 "metadata": {
  "kernelspec": {
   "display_name": "Python 3",
   "language": "python",
   "name": "python3"
  },
  "language_info": {
   "codemirror_mode": {
    "name": "ipython",
    "version": 3
   },
   "file_extension": ".py",
   "mimetype": "text/x-python",
   "name": "python",
   "nbconvert_exporter": "python",
   "pygments_lexer": "ipython3",
   "version": "3.7.7"
  }
 },
 "nbformat": 4,
 "nbformat_minor": 4
}
